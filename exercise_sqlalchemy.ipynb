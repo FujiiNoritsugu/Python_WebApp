{
 "cells": [
  {
   "cell_type": "markdown",
   "metadata": {},
   "source": [
    "【演習】"
   ]
  },
  {
   "cell_type": "markdown",
   "metadata": {},
   "source": [
    "モジュールのインポート"
   ]
  },
  {
   "cell_type": "code",
   "execution_count": 8,
   "metadata": {},
   "outputs": [],
   "source": [
    "from sqlalchemy import create_engine\n",
    "from sqlalchemy.orm import Session\n",
    "from exercise_model import Human"
   ]
  },
  {
   "cell_type": "markdown",
   "metadata": {},
   "source": [
    "エンジンとセッションの作成"
   ]
  },
  {
   "cell_type": "code",
   "execution_count": 9,
   "metadata": {},
   "outputs": [],
   "source": [
    "engine = create_engine('sqlite:///exercise_db', echo=True)\n",
    "session = Session(engine)"
   ]
  },
  {
   "cell_type": "markdown",
   "metadata": {},
   "source": [
    "全件の取得と表示"
   ]
  },
  {
   "cell_type": "code",
   "execution_count": 10,
   "metadata": {},
   "outputs": [
    {
     "name": "stdout",
     "output_type": "stream",
     "text": [
      "2022-06-23 06:19:08,648 INFO sqlalchemy.engine.Engine BEGIN (implicit)\n",
      "2022-06-23 06:19:08,651 INFO sqlalchemy.engine.Engine SELECT human.id AS human_id, human.name AS human_name, human.height AS human_height, human.weight AS human_weight \n",
      "FROM human\n",
      "2022-06-23 06:19:08,652 INFO sqlalchemy.engine.Engine [generated in 0.00114s] ()\n",
      "id:1 name:pom_1 height:160.0 weight:60.0\n",
      "id:2 name:pom_2 height:170.5 weight:60.5\n",
      "id:3 name:pom_3 height:182.3 weight:56.8\n"
     ]
    }
   ],
   "source": [
    "humans = session.query(Human).all()\n",
    "for human in humans:\n",
    "    print(f'id:{human.id} name:{human.name} height:{human.height} weight:{human.weight}')"
   ]
  },
  {
   "cell_type": "markdown",
   "metadata": {},
   "source": [
    "新しいレコードの追加"
   ]
  },
  {
   "cell_type": "code",
   "execution_count": 12,
   "metadata": {},
   "outputs": [
    {
     "name": "stdout",
     "output_type": "stream",
     "text": [
      "2022-06-23 06:21:30,976 INFO sqlalchemy.engine.Engine INSERT INTO human (id, name, height, weight) VALUES (?, ?, ?, ?)\n",
      "2022-06-23 06:21:30,978 INFO sqlalchemy.engine.Engine [generated in 0.00254s] (4, 'new_human', 200.0, 100.0)\n",
      "2022-06-23 06:21:30,982 INFO sqlalchemy.engine.Engine COMMIT\n"
     ]
    }
   ],
   "source": [
    "new_human= Human(id=4, name='new_human', height=200, weight=100)\n",
    "session.add(new_human)\n",
    "session.commit()"
   ]
  },
  {
   "cell_type": "markdown",
   "metadata": {},
   "source": [
    "heightの条件でレコードを抽出して更新"
   ]
  },
  {
   "cell_type": "code",
   "execution_count": 16,
   "metadata": {},
   "outputs": [
    {
     "name": "stdout",
     "output_type": "stream",
     "text": [
      "2022-06-23 06:25:46,905 INFO sqlalchemy.engine.Engine SELECT human.id AS human_id, human.name AS human_name, human.height AS human_height, human.weight AS human_weight \n",
      "FROM human \n",
      "WHERE human.height <= ?\n",
      " LIMIT ? OFFSET ?\n",
      "2022-06-23 06:25:46,906 INFO sqlalchemy.engine.Engine [generated in 0.00156s] (160, 1, 0)\n"
     ]
    }
   ],
   "source": [
    "target_human = session.query(Human).filter(Human.height<=160).first()"
   ]
  },
  {
   "cell_type": "code",
   "execution_count": 17,
   "metadata": {},
   "outputs": [],
   "source": [
    "target_human.name = 'target_human'"
   ]
  },
  {
   "cell_type": "code",
   "execution_count": 18,
   "metadata": {},
   "outputs": [
    {
     "name": "stdout",
     "output_type": "stream",
     "text": [
      "2022-06-23 06:26:18,830 INFO sqlalchemy.engine.Engine UPDATE human SET name=? WHERE human.id = ?\n",
      "2022-06-23 06:26:18,832 INFO sqlalchemy.engine.Engine [generated in 0.00201s] ('target_human', 1)\n",
      "2022-06-23 06:26:18,834 INFO sqlalchemy.engine.Engine COMMIT\n"
     ]
    }
   ],
   "source": [
    "session.commit()"
   ]
  },
  {
   "cell_type": "markdown",
   "metadata": {},
   "source": [
    "weightの条件でレコードを抽出して削除"
   ]
  },
  {
   "cell_type": "code",
   "execution_count": 19,
   "metadata": {},
   "outputs": [
    {
     "name": "stdout",
     "output_type": "stream",
     "text": [
      "2022-06-23 06:28:39,143 INFO sqlalchemy.engine.Engine BEGIN (implicit)\n",
      "2022-06-23 06:28:39,145 INFO sqlalchemy.engine.Engine DELETE FROM human WHERE human.weight < ?\n",
      "2022-06-23 06:28:39,147 INFO sqlalchemy.engine.Engine [generated in 0.00147s] (60,)\n"
     ]
    },
    {
     "data": {
      "text/plain": [
       "1"
      ]
     },
     "execution_count": 19,
     "metadata": {},
     "output_type": "execute_result"
    }
   ],
   "source": [
    "session.query(Human).filter(Human.weight<60).delete()"
   ]
  },
  {
   "cell_type": "code",
   "execution_count": 20,
   "metadata": {},
   "outputs": [
    {
     "name": "stdout",
     "output_type": "stream",
     "text": [
      "2022-06-23 06:28:53,791 INFO sqlalchemy.engine.Engine COMMIT\n"
     ]
    }
   ],
   "source": [
    "session.commit()"
   ]
  },
  {
   "cell_type": "code",
   "execution_count": 21,
   "metadata": {},
   "outputs": [
    {
     "name": "stdout",
     "output_type": "stream",
     "text": [
      "2022-06-23 06:29:17,245 INFO sqlalchemy.engine.Engine BEGIN (implicit)\n",
      "2022-06-23 06:29:17,248 INFO sqlalchemy.engine.Engine SELECT human.id AS human_id, human.name AS human_name, human.height AS human_height, human.weight AS human_weight \n",
      "FROM human\n",
      "2022-06-23 06:29:17,249 INFO sqlalchemy.engine.Engine [cached since 608.6s ago] ()\n",
      "id:1 name:target_human height:160.0 weight:60.0\n",
      "id:2 name:pom_2 height:170.5 weight:60.5\n",
      "id:4 name:new_human height:200.0 weight:100.0\n"
     ]
    }
   ],
   "source": [
    "humans = session.query(Human).all()\n",
    "for human in humans:\n",
    "    print(f'id:{human.id} name:{human.name} height:{human.height} weight:{human.weight}')"
   ]
  },
  {
   "cell_type": "code",
   "execution_count": 22,
   "metadata": {},
   "outputs": [
    {
     "name": "stdout",
     "output_type": "stream",
     "text": [
      "2022-06-23 06:29:41,183 INFO sqlalchemy.engine.Engine ROLLBACK\n"
     ]
    }
   ],
   "source": [
    "session.close()"
   ]
  }
 ],
 "metadata": {
  "kernelspec": {
   "display_name": "Python 3.8.10 ('venv': venv)",
   "language": "python",
   "name": "python3"
  },
  "language_info": {
   "codemirror_mode": {
    "name": "ipython",
    "version": 3
   },
   "file_extension": ".py",
   "mimetype": "text/x-python",
   "name": "python",
   "nbconvert_exporter": "python",
   "pygments_lexer": "ipython3",
   "version": "3.8.10"
  },
  "orig_nbformat": 4,
  "vscode": {
   "interpreter": {
    "hash": "5cc2a2bc4d1eb95f4c857ebd4c3c24fa51d0c2a9ef1a1c18513e46796ff4b098"
   }
  }
 },
 "nbformat": 4,
 "nbformat_minor": 2
}
