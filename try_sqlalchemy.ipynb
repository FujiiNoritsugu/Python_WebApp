{
 "cells": [
  {
   "cell_type": "markdown",
   "metadata": {},
   "source": [
    "モジュールのインポート"
   ]
  },
  {
   "cell_type": "code",
   "execution_count": 1,
   "metadata": {},
   "outputs": [],
   "source": [
    "from sqlalchemy import create_engine\n",
    "from sqlalchemy.orm import Session\n",
    "from test_model import Person"
   ]
  },
  {
   "cell_type": "markdown",
   "metadata": {},
   "source": [
    "エンジンとセッションの作成"
   ]
  },
  {
   "cell_type": "code",
   "execution_count": 2,
   "metadata": {},
   "outputs": [],
   "source": [
    "engine = create_engine('sqlite:///test_db', echo=True)\n",
    "session = Session(engine)"
   ]
  },
  {
   "cell_type": "markdown",
   "metadata": {},
   "source": [
    "Personテーブルのレコードを取得"
   ]
  },
  {
   "cell_type": "code",
   "execution_count": 3,
   "metadata": {},
   "outputs": [
    {
     "name": "stdout",
     "output_type": "stream",
     "text": [
      "2022-06-20 07:49:05,857 INFO sqlalchemy.engine.Engine BEGIN (implicit)\n",
      "2022-06-20 07:49:05,862 INFO sqlalchemy.engine.Engine SELECT person.id AS person_id, person.name AS person_name, person.size AS person_size \n",
      "FROM person\n",
      "2022-06-20 07:49:05,863 INFO sqlalchemy.engine.Engine [generated in 0.00118s] ()\n"
     ]
    }
   ],
   "source": [
    "persons = session.query(Person).all()"
   ]
  },
  {
   "cell_type": "markdown",
   "metadata": {},
   "source": [
    "取得したオブジェクトを表示"
   ]
  },
  {
   "cell_type": "code",
   "execution_count": 4,
   "metadata": {},
   "outputs": [
    {
     "name": "stdout",
     "output_type": "stream",
     "text": [
      "{'_sa_instance_state': <sqlalchemy.orm.state.InstanceState object at 0x7f36817c2fd0>, 'size': 10.5, 'id': 1, 'name': 'name_a'}\n",
      "{'_sa_instance_state': <sqlalchemy.orm.state.InstanceState object at 0x7f36817c2f40>, 'size': 3.14, 'id': 3, 'name': 'c_update'}\n",
      "{'_sa_instance_state': <sqlalchemy.orm.state.InstanceState object at 0x7f36817c2370>, 'size': 99.9, 'id': 100, 'name': 'name_z'}\n"
     ]
    }
   ],
   "source": [
    "for person in persons:\n",
    "    print(person.__dict__)"
   ]
  },
  {
   "cell_type": "markdown",
   "metadata": {},
   "source": [
    "Persionテーブルに新しいレコードを追加"
   ]
  },
  {
   "cell_type": "code",
   "execution_count": 7,
   "metadata": {},
   "outputs": [],
   "source": [
    "new_person= Person(id=4, name='from_model', size=100)\n",
    "session.add(new_person)"
   ]
  },
  {
   "cell_type": "markdown",
   "metadata": {},
   "source": [
    "追加したレコードをコミット"
   ]
  },
  {
   "cell_type": "code",
   "execution_count": 8,
   "metadata": {},
   "outputs": [
    {
     "name": "stdout",
     "output_type": "stream",
     "text": [
      "2022-06-20 07:52:06,143 INFO sqlalchemy.engine.Engine INSERT INTO person (id, name, size) VALUES (?, ?, ?)\n",
      "2022-06-20 07:52:06,145 INFO sqlalchemy.engine.Engine [generated in 0.00197s] (4, 'from_model', 100.0)\n",
      "2022-06-20 07:52:06,148 INFO sqlalchemy.engine.Engine COMMIT\n"
     ]
    }
   ],
   "source": [
    "session.commit()"
   ]
  },
  {
   "cell_type": "markdown",
   "metadata": {},
   "source": [
    "追加したレコードを確認"
   ]
  },
  {
   "cell_type": "code",
   "execution_count": 9,
   "metadata": {},
   "outputs": [
    {
     "name": "stdout",
     "output_type": "stream",
     "text": [
      "2022-06-20 07:52:23,334 INFO sqlalchemy.engine.Engine BEGIN (implicit)\n",
      "2022-06-20 07:52:23,336 INFO sqlalchemy.engine.Engine SELECT person.id AS person_id, person.name AS person_name, person.size AS person_size \n",
      "FROM person\n",
      "2022-06-20 07:52:23,339 INFO sqlalchemy.engine.Engine [cached since 197.5s ago] ()\n",
      "{'_sa_instance_state': <sqlalchemy.orm.state.InstanceState object at 0x7f36938837f0>, 'size': 10.5, 'id': 1, 'name': 'name_a'}\n",
      "{'_sa_instance_state': <sqlalchemy.orm.state.InstanceState object at 0x7f3693883130>, 'size': 3.14, 'id': 3, 'name': 'c_update'}\n",
      "{'_sa_instance_state': <sqlalchemy.orm.state.InstanceState object at 0x7f36817c2ee0>, 'size': 100.0, 'id': 4, 'name': 'from_model'}\n",
      "{'_sa_instance_state': <sqlalchemy.orm.state.InstanceState object at 0x7f3693883490>, 'size': 99.9, 'id': 100, 'name': 'name_z'}\n"
     ]
    }
   ],
   "source": [
    "persons = session.query(Person).all()\n",
    "for person in persons:\n",
    "    print(person.__dict__)"
   ]
  }
 ],
 "metadata": {
  "kernelspec": {
   "display_name": "Python 3.8.10 ('venv': venv)",
   "language": "python",
   "name": "python3"
  },
  "language_info": {
   "codemirror_mode": {
    "name": "ipython",
    "version": 3
   },
   "file_extension": ".py",
   "mimetype": "text/x-python",
   "name": "python",
   "nbconvert_exporter": "python",
   "pygments_lexer": "ipython3",
   "version": "3.8.10"
  },
  "orig_nbformat": 4,
  "vscode": {
   "interpreter": {
    "hash": "5cc2a2bc4d1eb95f4c857ebd4c3c24fa51d0c2a9ef1a1c18513e46796ff4b098"
   }
  }
 },
 "nbformat": 4,
 "nbformat_minor": 2
}
